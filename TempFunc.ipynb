{
 "cells": [
  {
   "cell_type": "markdown",
   "metadata": {},
   "source": [
    "## Calib images"
   ]
  },
  {
   "cell_type": "code",
   "execution_count": 3,
   "metadata": {},
   "outputs": [
    {
     "name": "stdout",
     "output_type": "stream",
     "text": [
      "total error:  0.07185351597563437\n",
      "total error:  0.07185351597563437\n"
     ]
    }
   ],
   "source": [
    "#coding:utf-8\n",
    "import cv2\n",
    "import numpy as np\n",
    "import glob\n",
    "import pickle\n",
    "\n",
    "# 找棋盘格角点\n",
    "# 阈值\n",
    "criteria = (cv2.TERM_CRITERIA_EPS + cv2.TERM_CRITERIA_MAX_ITER, 30, 0.001)\n",
    "#棋盘格模板规格\n",
    "w = 9\n",
    "h = 6\n",
    "# 世界坐标系中的棋盘格点,例如(0,0,0), (1,0,0), (2,0,0) ....,(8,5,0)，去掉Z坐标，记为二维矩阵\n",
    "objp = np.zeros((w*h,3), np.float32)\n",
    "objp[:,:2] = np.mgrid[0:w,0:h].T.reshape(-1,2)\n",
    "# 储存棋盘格角点的世界坐标和图像坐标对\n",
    "objpoints = [] # 在世界坐标系中的三维点\n",
    "imgpoints = [] # 在图像平面的二维点\n",
    "\n",
    "images = glob.glob(r\"C:\\Users\\lstyl\\Desktop\\CE\\CV\\calib\\*.png\")\n",
    "for fname in images:\n",
    "    img = cv2.imread(fname)\n",
    "    gray = cv2.cvtColor(img, cv2.COLOR_BGR2GRAY)\n",
    "    # 找到棋盘格角点\n",
    "    ret, corners = cv2.findChessboardCorners(gray, (w,h),None)\n",
    "    # 如果找到足够点对，将其存储起来\n",
    "    if ret == True:\n",
    "        cv2.cornerSubPix(gray,corners,(11,11),(-1,-1),criteria)\n",
    "        objpoints.append(objp)\n",
    "        imgpoints.append(corners)\n",
    "        # 将角点在图像上显示\n",
    "        cv2.drawChessboardCorners(img, (w,h), corners, ret)\n",
    "        cv2.imshow('findCorners',img)\n",
    "        cv2.waitKey(1)\n",
    "cv2.destroyAllWindows()\n",
    "\n",
    "# 标定\n",
    "ret, mtx, dist, rvecs, tvecs = cv2.calibrateCamera(objpoints, imgpoints, gray.shape[::-1], None, None)\n",
    "\n",
    "# Store calibration variables\n",
    "with open('objs.pkl', 'wb') as f:\n",
    "    pickle.dump([mtx, dist], f)\n",
    "\n",
    "# 去畸变\n",
    "img2 = cv2.imread(r'C:\\Users\\lstyl\\Desktop\\CE\\CV\\calib\\1.png')\n",
    "h,  w = img2.shape[:2]\n",
    "newcameramtx, roi=cv2.getOptimalNewCameraMatrix(mtx,dist,(w,h),0,(w,h)) # 自由比例参数\n",
    "dst = cv2.undistort(img2, mtx, dist, None, newcameramtx)\n",
    "\n",
    "# 根据前面ROI区域裁剪图片\n",
    "#x,y,w,h = roi\n",
    "#dst = dst[y:y+h, x:x+w]\n",
    "cv2.imwrite(r'C:\\Users\\lstyl\\Desktop\\CE\\CV\\imgs\\calibresult.png',dst)\n",
    "\n",
    "# 反投影误差\n",
    "total_error = 0\n",
    "for i in range(len(objpoints)):\n",
    "    imgpoints2, _ = cv2.projectPoints(objpoints[i], rvecs[i], tvecs[i], mtx, dist)\n",
    "    error = cv2.norm(imgpoints[i],imgpoints2, cv2.NORM_L2)/len(imgpoints2)\n",
    "    total_error += error\n",
    "print(\"total error: \", total_error/len(objpoints))#coding:utf-8\n",
    "import cv2\n",
    "import numpy as np\n",
    "import glob\n",
    "import pickle\n",
    "\n",
    "# 找棋盘格角点\n",
    "# 阈值\n",
    "criteria = (cv2.TERM_CRITERIA_EPS + cv2.TERM_CRITERIA_MAX_ITER, 30, 0.001)\n",
    "#棋盘格模板规格\n",
    "w = 9\n",
    "h = 6\n",
    "# 世界坐标系中的棋盘格点,例如(0,0,0), (1,0,0), (2,0,0) ....,(8,5,0)，去掉Z坐标，记为二维矩阵\n",
    "objp = np.zeros((w*h,3), np.float32)\n",
    "objp[:,:2] = np.mgrid[0:w,0:h].T.reshape(-1,2)\n",
    "# 储存棋盘格角点的世界坐标和图像坐标对\n",
    "objpoints = [] # 在世界坐标系中的三维点\n",
    "imgpoints = [] # 在图像平面的二维点\n",
    "\n",
    "images = glob.glob(r\"C:\\Users\\lstyl\\Desktop\\CE\\CV\\calib\\*.png\")\n",
    "for fname in images:\n",
    "    img = cv2.imread(fname)\n",
    "    gray = cv2.cvtColor(img, cv2.COLOR_BGR2GRAY)\n",
    "    # 找到棋盘格角点\n",
    "    ret, corners = cv2.findChessboardCorners(gray, (w,h),None)\n",
    "    # 如果找到足够点对，将其存储起来\n",
    "    if ret == True:\n",
    "        cv2.cornerSubPix(gray,corners,(11,11),(-1,-1),criteria)\n",
    "        objpoints.append(objp)\n",
    "        imgpoints.append(corners)\n",
    "        # 将角点在图像上显示\n",
    "        cv2.drawChessboardCorners(img, (w,h), corners, ret)\n",
    "        cv2.imshow('findCorners',img)\n",
    "        cv2.waitKey(1)\n",
    "cv2.destroyAllWindows()\n",
    "\n",
    "# 标定\n",
    "ret, mtx, dist, rvecs, tvecs = cv2.calibrateCamera(objpoints, imgpoints, gray.shape[::-1], None, None)\n",
    "\n",
    "# Store calibration variables\n",
    "with open('objs.pkl', 'wb') as f:\n",
    "    pickle.dump([mtx, dist], f)\n",
    "\n",
    "# 反投影误差\n",
    "total_error = 0\n",
    "for i in range(len(objpoints)):\n",
    "    imgpoints2, _ = cv2.projectPoints(objpoints[i], rvecs[i], tvecs[i], mtx, dist)\n",
    "    error = cv2.norm(imgpoints[i],imgpoints2, cv2.NORM_L2)/len(imgpoints2)\n",
    "    total_error += error\n",
    "print(\"total error: \", total_error/len(objpoints))"
   ]
  },
  {
   "cell_type": "markdown",
   "metadata": {},
   "source": [
    "## Calib batch images"
   ]
  },
  {
   "cell_type": "code",
   "execution_count": null,
   "metadata": {},
   "outputs": [],
   "source": [
    "import glob\n",
    "import pickle\n",
    "import cv2\n",
    "\n",
    "with open('objs.pkl', 'rb') as f:\n",
    "    mtx, dist = pickle.load(f)\n",
    "\n",
    "imgs = glob.glob(r'C:\\Users\\lstyl\\Desktop\\CE\\CV\\CalibImgs\\*.png')\n",
    "for fname in imgs:\n",
    "    img = cv2.imread(fname)\n",
    "    h,  w = img.shape[:2]\n",
    "    newcameramtx, roi=cv2.getOptimalNewCameraMatrix(mtx,dist,(w,h),0,(w,h)) # 自由比例参数\n",
    "    dst = cv2.undistort(img, mtx, dist, None, newcameramtx)\n",
    "    cv2.imwrite(fname,dst)"
   ]
  },
  {
   "cell_type": "markdown",
   "metadata": {},
   "source": [
    "## Calibrate and undistort images"
   ]
  },
  {
   "cell_type": "code",
   "execution_count": null,
   "metadata": {},
   "outputs": [],
   "source": [
    "import cv2\n",
    "import numpy as np\n",
    "import pickle\n",
    "\n",
    "# Load calib parameters\n",
    "with open('objs.pkl', 'rb') as f:\n",
    "    mtx, dist = pickle.load(f)\n",
    "\n",
    "# Calibrate distortion\n",
    "h,  w = img.shape[:2]\n",
    "newcameramtx, roi=cv2.getOptimalNewCameraMatrix(mtx,dist,(w,h),0,(w,h)) # 自由比例参数\n",
    "dst = cv2.undistort(img, mtx, dist, None, newcameramtx)\n",
    "img = dst"
   ]
  },
  {
   "cell_type": "markdown",
   "metadata": {},
   "source": [
    "## Generate qrcode for wheels"
   ]
  },
  {
   "cell_type": "code",
   "execution_count": 2,
   "metadata": {},
   "outputs": [],
   "source": [
    "import pyqrcode\n",
    "\n",
    "for i in range(4):\n",
    "    im = pyqrcode.create(i)\n",
    "    im.png('wheel' + str(i), scale=5)"
   ]
  }
 ],
 "metadata": {
  "kernelspec": {
   "display_name": "Python 3",
   "language": "python",
   "name": "python3"
  },
  "language_info": {
   "codemirror_mode": {
    "name": "ipython",
    "version": 3
   },
   "file_extension": ".py",
   "mimetype": "text/x-python",
   "name": "python",
   "nbconvert_exporter": "python",
   "pygments_lexer": "ipython3",
   "version": "3.6.5"
  }
 },
 "nbformat": 4,
 "nbformat_minor": 2
}
